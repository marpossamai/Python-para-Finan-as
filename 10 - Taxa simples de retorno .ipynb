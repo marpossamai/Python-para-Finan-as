{
 "cells": [
  {
   "cell_type": "code",
   "execution_count": 4,
   "id": "1a01bad9",
   "metadata": {},
   "outputs": [],
   "source": [
    "import numpy as np\n",
    "from pandas_datareader import data as web\n",
    "import matplotlib.pyplot as plt"
   ]
  },
  {
   "cell_type": "code",
   "execution_count": 5,
   "id": "0dde4c8c",
   "metadata": {},
   "outputs": [],
   "source": [
    "pg = web.DataReader('PG', data_source='yahoo', start='1995-1-1')"
   ]
  },
  {
   "cell_type": "code",
   "execution_count": 6,
   "id": "c249c6a1",
   "metadata": {},
   "outputs": [
    {
     "data": {
      "text/html": [
       "<div>\n",
       "<style scoped>\n",
       "    .dataframe tbody tr th:only-of-type {\n",
       "        vertical-align: middle;\n",
       "    }\n",
       "\n",
       "    .dataframe tbody tr th {\n",
       "        vertical-align: top;\n",
       "    }\n",
       "\n",
       "    .dataframe thead th {\n",
       "        text-align: right;\n",
       "    }\n",
       "</style>\n",
       "<table border=\"1\" class=\"dataframe\">\n",
       "  <thead>\n",
       "    <tr style=\"text-align: right;\">\n",
       "      <th></th>\n",
       "      <th>High</th>\n",
       "      <th>Low</th>\n",
       "      <th>Open</th>\n",
       "      <th>Close</th>\n",
       "      <th>Volume</th>\n",
       "      <th>Adj Close</th>\n",
       "    </tr>\n",
       "    <tr>\n",
       "      <th>Date</th>\n",
       "      <th></th>\n",
       "      <th></th>\n",
       "      <th></th>\n",
       "      <th></th>\n",
       "      <th></th>\n",
       "      <th></th>\n",
       "    </tr>\n",
       "  </thead>\n",
       "  <tbody>\n",
       "    <tr>\n",
       "      <th>1995-01-03</th>\n",
       "      <td>15.62500</td>\n",
       "      <td>15.43750</td>\n",
       "      <td>15.46875</td>\n",
       "      <td>15.59375</td>\n",
       "      <td>3318400.0</td>\n",
       "      <td>7.820027</td>\n",
       "    </tr>\n",
       "    <tr>\n",
       "      <th>1995-01-04</th>\n",
       "      <td>15.65625</td>\n",
       "      <td>15.31250</td>\n",
       "      <td>15.53125</td>\n",
       "      <td>15.46875</td>\n",
       "      <td>2218800.0</td>\n",
       "      <td>7.757336</td>\n",
       "    </tr>\n",
       "    <tr>\n",
       "      <th>1995-01-05</th>\n",
       "      <td>15.43750</td>\n",
       "      <td>15.21875</td>\n",
       "      <td>15.37500</td>\n",
       "      <td>15.25000</td>\n",
       "      <td>2319600.0</td>\n",
       "      <td>7.647640</td>\n",
       "    </tr>\n",
       "    <tr>\n",
       "      <th>1995-01-06</th>\n",
       "      <td>15.40625</td>\n",
       "      <td>15.15625</td>\n",
       "      <td>15.15625</td>\n",
       "      <td>15.28125</td>\n",
       "      <td>3438000.0</td>\n",
       "      <td>7.663309</td>\n",
       "    </tr>\n",
       "    <tr>\n",
       "      <th>1995-01-09</th>\n",
       "      <td>15.40625</td>\n",
       "      <td>15.18750</td>\n",
       "      <td>15.34375</td>\n",
       "      <td>15.21875</td>\n",
       "      <td>1795200.0</td>\n",
       "      <td>7.631968</td>\n",
       "    </tr>\n",
       "  </tbody>\n",
       "</table>\n",
       "</div>"
      ],
      "text/plain": [
       "                High       Low      Open     Close     Volume  Adj Close\n",
       "Date                                                                    \n",
       "1995-01-03  15.62500  15.43750  15.46875  15.59375  3318400.0   7.820027\n",
       "1995-01-04  15.65625  15.31250  15.53125  15.46875  2218800.0   7.757336\n",
       "1995-01-05  15.43750  15.21875  15.37500  15.25000  2319600.0   7.647640\n",
       "1995-01-06  15.40625  15.15625  15.15625  15.28125  3438000.0   7.663309\n",
       "1995-01-09  15.40625  15.18750  15.34375  15.21875  1795200.0   7.631968"
      ]
     },
     "execution_count": 6,
     "metadata": {},
     "output_type": "execute_result"
    }
   ],
   "source": [
    "pg.head()"
   ]
  },
  {
   "cell_type": "code",
   "execution_count": 7,
   "id": "6dae307d",
   "metadata": {},
   "outputs": [
    {
     "data": {
      "text/html": [
       "<div>\n",
       "<style scoped>\n",
       "    .dataframe tbody tr th:only-of-type {\n",
       "        vertical-align: middle;\n",
       "    }\n",
       "\n",
       "    .dataframe tbody tr th {\n",
       "        vertical-align: top;\n",
       "    }\n",
       "\n",
       "    .dataframe thead th {\n",
       "        text-align: right;\n",
       "    }\n",
       "</style>\n",
       "<table border=\"1\" class=\"dataframe\">\n",
       "  <thead>\n",
       "    <tr style=\"text-align: right;\">\n",
       "      <th></th>\n",
       "      <th>High</th>\n",
       "      <th>Low</th>\n",
       "      <th>Open</th>\n",
       "      <th>Close</th>\n",
       "      <th>Volume</th>\n",
       "      <th>Adj Close</th>\n",
       "    </tr>\n",
       "    <tr>\n",
       "      <th>Date</th>\n",
       "      <th></th>\n",
       "      <th></th>\n",
       "      <th></th>\n",
       "      <th></th>\n",
       "      <th></th>\n",
       "      <th></th>\n",
       "    </tr>\n",
       "  </thead>\n",
       "  <tbody>\n",
       "    <tr>\n",
       "      <th>2022-10-27</th>\n",
       "      <td>133.119995</td>\n",
       "      <td>131.500000</td>\n",
       "      <td>132.000000</td>\n",
       "      <td>131.880005</td>\n",
       "      <td>6676700.0</td>\n",
       "      <td>131.880005</td>\n",
       "    </tr>\n",
       "    <tr>\n",
       "      <th>2022-10-28</th>\n",
       "      <td>135.509995</td>\n",
       "      <td>132.919998</td>\n",
       "      <td>133.169998</td>\n",
       "      <td>135.220001</td>\n",
       "      <td>6996400.0</td>\n",
       "      <td>135.220001</td>\n",
       "    </tr>\n",
       "    <tr>\n",
       "      <th>2022-10-31</th>\n",
       "      <td>135.669998</td>\n",
       "      <td>134.259995</td>\n",
       "      <td>135.199997</td>\n",
       "      <td>134.669998</td>\n",
       "      <td>8346300.0</td>\n",
       "      <td>134.669998</td>\n",
       "    </tr>\n",
       "    <tr>\n",
       "      <th>2022-11-01</th>\n",
       "      <td>136.279999</td>\n",
       "      <td>133.839996</td>\n",
       "      <td>134.699997</td>\n",
       "      <td>134.880005</td>\n",
       "      <td>6428300.0</td>\n",
       "      <td>134.880005</td>\n",
       "    </tr>\n",
       "    <tr>\n",
       "      <th>2022-11-02</th>\n",
       "      <td>136.539993</td>\n",
       "      <td>132.809998</td>\n",
       "      <td>134.720001</td>\n",
       "      <td>132.940002</td>\n",
       "      <td>7318100.0</td>\n",
       "      <td>132.940002</td>\n",
       "    </tr>\n",
       "  </tbody>\n",
       "</table>\n",
       "</div>"
      ],
      "text/plain": [
       "                  High         Low        Open       Close     Volume  \\\n",
       "Date                                                                    \n",
       "2022-10-27  133.119995  131.500000  132.000000  131.880005  6676700.0   \n",
       "2022-10-28  135.509995  132.919998  133.169998  135.220001  6996400.0   \n",
       "2022-10-31  135.669998  134.259995  135.199997  134.669998  8346300.0   \n",
       "2022-11-01  136.279999  133.839996  134.699997  134.880005  6428300.0   \n",
       "2022-11-02  136.539993  132.809998  134.720001  132.940002  7318100.0   \n",
       "\n",
       "             Adj Close  \n",
       "Date                    \n",
       "2022-10-27  131.880005  \n",
       "2022-10-28  135.220001  \n",
       "2022-10-31  134.669998  \n",
       "2022-11-01  134.880005  \n",
       "2022-11-02  132.940002  "
      ]
     },
     "execution_count": 7,
     "metadata": {},
     "output_type": "execute_result"
    }
   ],
   "source": [
    "pg.tail()"
   ]
  },
  {
   "cell_type": "raw",
   "id": "06e0f354",
   "metadata": {},
   "source": [
    "Simple Rate of Return\n",
    "    (P1 - P0) / P0  ==  (P1 / P0) - 1"
   ]
  },
  {
   "cell_type": "code",
   "execution_count": 10,
   "id": "4a84c478",
   "metadata": {},
   "outputs": [
    {
     "name": "stdout",
     "output_type": "stream",
     "text": [
      "Date\n",
      "1995-01-03         NaN\n",
      "1995-01-04   -0.008017\n",
      "1995-01-05   -0.014141\n",
      "1995-01-06    0.002049\n",
      "1995-01-09   -0.004090\n",
      "                ...   \n",
      "2022-10-27    0.000759\n",
      "2022-10-28    0.025326\n",
      "2022-10-31   -0.004067\n",
      "2022-11-01    0.001559\n",
      "2022-11-02   -0.014383\n",
      "Name: simple_return, Length: 7010, dtype: float64\n"
     ]
    }
   ],
   "source": [
    "pg['simple_return'] = (pg['Adj Close']/pg['Adj Close'].shift(1)) -1\n",
    "print(pg['simple_return'])"
   ]
  },
  {
   "cell_type": "code",
   "execution_count": 12,
   "id": "45ba8c46",
   "metadata": {},
   "outputs": [
    {
     "data": {
      "image/png": "[encoded data removed]",
      "text/plain": [
       "<Figure size 576x360 with 1 Axes>"
      ]
     },
     "metadata": {
      "needs_background": "light"
     },
     "output_type": "display_data"
    }
   ],
   "source": [
    "pg['simple_return'].plot(figsize=(8,5))\n",
    "plt.show()"
   ]
  },
  {
   "cell_type": "code",
   "execution_count": 13,
   "id": "046b6066",
   "metadata": {},
   "outputs": [
    {
     "data": {
      "text/plain": [
       "0.0005045846985606794"
      ]
     },
     "execution_count": 13,
     "metadata": {},
     "output_type": "execute_result"
    }
   ],
   "source": [
    "avg_returns_d = pg['simple_return'].mean()\n",
    "avg_returns_d"
   ]
  },
  {
   "cell_type": "code",
   "execution_count": 14,
   "id": "35d38b6a",
   "metadata": {},
   "outputs": [
    {
     "data": {
      "text/plain": [
       "0.12614617464016986"
      ]
     },
     "execution_count": 14,
     "metadata": {},
     "output_type": "execute_result"
    }
   ],
   "source": [
    "avr_returns_y = pg['simple_return'].mean() * 250\n",
    "avr_returns_y"
   ]
  },
  {
   "cell_type": "code",
   "execution_count": 19,
   "id": "2c7dd2db",
   "metadata": {},
   "outputs": [
    {
     "name": "stdout",
     "output_type": "stream",
     "text": [
      "12.615%\n"
     ]
    }
   ],
   "source": [
    "print(f'{(avr_returns_y*100):.3f}%')"
   ]
  },
  {
   "cell_type": "code",
   "execution_count": null,
   "id": "3b5cfe52",
   "metadata": {},
   "outputs": [],
   "source": []
  }
 ],
 "metadata": {
  "kernelspec": {
   "display_name": "Python 3 (ipykernel)",
   "language": "python",
   "name": "python3"
  },
  "language_info": {
   "codemirror_mode": {
    "name": "ipython",
    "version": 3
   },
   "file_extension": ".py",
   "mimetype": "text/x-python",
   "name": "python",
   "nbconvert_exporter": "python",
   "pygments_lexer": "ipython3",
   "version": "3.9.12"
  }
 },
 "nbformat": 4,
 "nbformat_minor": 5
}
